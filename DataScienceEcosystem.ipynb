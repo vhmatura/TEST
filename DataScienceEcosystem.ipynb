# Data Science Tools and Ecosystem

In this notebook, Data Science Tools and Ecosystem are summarized.

Some of the popular languages that Data Scientists use are:
1. Python
2. R
3. SQL
4. Julia
5. Scala


Some of the commonly used libraries used by Data Scientists include:
1. Pandas
2. Numpy
3. Seaborn
4. Matplotlib
5. Scipy

 Data Science Tools :
1. Jupyter Notebook
2. RStudio
3. Apache Spark
4. TensorFlow
5. Tableau


Below are a few examples of evaluating arithmetic expressions in Python:

1. result = 5 + 3
print(result)  # Output: 8
2. result = 10 - 4
print(result)  # Output: 6
3. result = 7 * 6
print(result)  # Output: 42
4. result = 20 / 4
print(result)  # Output: 5.0




```python
# This is a simple arithmetic expression to multiply then add integers
result = (3 * 4) + 5
print(result)  # Output: 17




### Convert Minutes to Hours

In this code cell, we convert 200 minutes into hours:

```python
# Convert 200 minutes to hours by dividing by 60
minutes = 200
hours = minutes / 60

print(f"{minutes} minutes is equal to {hours} hours.")


### Objectives:

- List popular languages for Data Science.
- Explain key concepts of machine learning.
- Demonstrate data visualization techniques.
- Introduce common libraries used in Data Science.
- Provide practical coding examples for Data Science tasks.


## Author
Victor Maturama 

